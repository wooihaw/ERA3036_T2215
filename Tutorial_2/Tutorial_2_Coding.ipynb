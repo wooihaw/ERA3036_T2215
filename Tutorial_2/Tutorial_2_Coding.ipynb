{
 "cells": [
  {
   "cell_type": "code",
   "execution_count": null,
   "id": "67d7b4b6",
   "metadata": {},
   "outputs": [],
   "source": [
    "# Initialization\n",
    "%matplotlib inline\n",
    "from warnings import filterwarnings\n",
    "filterwarnings('ignore')"
   ]
  },
  {
   "cell_type": "markdown",
   "id": "2912575c",
   "metadata": {},
   "source": [
    "# Exercise 1"
   ]
  },
  {
   "cell_type": "markdown",
   "id": "df056be5",
   "metadata": {},
   "source": [
    "Write a Python script to load data from a CSV file called “genders_heights_weights.csv” from \"data\" sub-folder. This data consists of 2 features with the targets located at the leftmost column. Use 75% of the data for training and the remaining for testing."
   ]
  },
  {
   "cell_type": "code",
   "execution_count": null,
   "id": "fd4fc71c",
   "metadata": {},
   "outputs": [],
   "source": []
  },
  {
   "cell_type": "markdown",
   "id": "5b37a427",
   "metadata": {},
   "source": [
    "# Exercise 2"
   ]
  },
  {
   "cell_type": "code",
   "execution_count": null,
   "id": "3b114df2",
   "metadata": {},
   "outputs": [],
   "source": [
    "# Python script for Exercise 2\n",
    "from pandas import read_csv\n",
    "import matplotlib.pyplot as plt\n",
    "from sklearn.model_selection import train_test_split as split\n",
    "from sklearn.neighbors import KNeighborsClassifier\n",
    "\n",
    "# Load the dataset\n",
    "df = read_csv('../data/rescale.csv')\n",
    "\n",
    "# Split into features (X) and targets (y)\n",
    "X = df.iloc[:, :-1].values\n",
    "y = df.iloc[:, -1].values\n",
    "\n",
    "# Further split the data into training and testing sets\n",
    "X1_train, X1_test, y_train, y_test = split(X, y, random_state=42)\n",
    "\n",
    "# Plot the features\n",
    "xx = X1_train[:, 0]\n",
    "yy = X1_train[:, 1]\n",
    "plt.scatter(xx, yy, c=y_train)\n",
    "plt.axis('equal')\n",
    "plt.show()\n",
    "\n",
    "# Train a kNN classifer and evaluate its performance on the dataset\n",
    "knn1 = KNeighborsClassifier().fit(X1_train, y_train)\n",
    "print(f'knn1 accuracy: {knn1.score(X1_test, y_test)}')"
   ]
  },
  {
   "cell_type": "markdown",
   "id": "6c57feb8",
   "metadata": {},
   "source": [
    "To do: \n",
    "- Use MinMaxScaler to scale the features.\n",
    "- Plot the resulting scaled fetures.\n",
    "- Train a kNN classifier based on the scaled features. \n",
    "- Evaluate its performance"
   ]
  },
  {
   "cell_type": "code",
   "execution_count": null,
   "id": "3454b1f5",
   "metadata": {},
   "outputs": [],
   "source": []
  },
  {
   "cell_type": "markdown",
   "id": "c144ce89",
   "metadata": {},
   "source": [
    "# Exercise 3"
   ]
  },
  {
   "cell_type": "markdown",
   "id": "cb4b729f",
   "metadata": {},
   "source": [
    "The sinking of the RMS Titanic is one of the most infamous tragedy in history. In this hands-on, a machine learning system will be developed to predict which passengers survived the tragedy.\n",
    "![Image of Titanic](https://upload.wikimedia.org/wikipedia/commons/thumb/f/fd/RMS_Titanic_3.jpg/450px-RMS_Titanic_3.jpg)"
   ]
  },
  {
   "cell_type": "code",
   "execution_count": null,
   "id": "b6840901",
   "metadata": {},
   "outputs": [],
   "source": [
    "# Load the dataset\n",
    "import pandas as pd\n",
    "df = pd.read_csv('../data/titanic.csv')"
   ]
  },
  {
   "cell_type": "code",
   "execution_count": null,
   "id": "917884f2",
   "metadata": {},
   "outputs": [],
   "source": [
    "# Preview 10 lines of dataset\n",
    "df.head(10)"
   ]
  },
  {
   "cell_type": "code",
   "execution_count": null,
   "id": "64d0ddc3",
   "metadata": {},
   "outputs": [],
   "source": [
    "# Statistical summary\n",
    "df.describe()"
   ]
  },
  {
   "cell_type": "code",
   "execution_count": null,
   "id": "479b281e",
   "metadata": {},
   "outputs": [],
   "source": [
    "# Check for missing data\n",
    "df.isnull().sum()"
   ]
  },
  {
   "cell_type": "code",
   "execution_count": null,
   "id": "165beb4e",
   "metadata": {},
   "outputs": [],
   "source": [
    "# Select the relevant columns only\n",
    "selected = ['Pclass', 'Sex', 'Age', 'SibSp', 'Parch', 'Fare', 'Embarked', 'Survived']\n",
    "df1 = df[selected]"
   ]
  },
  {
   "cell_type": "markdown",
   "id": "c1ec5e3b",
   "metadata": {},
   "source": [
    "To do: Replace the missing data (imputation) using the statistics (mean, median etc.)"
   ]
  },
  {
   "cell_type": "code",
   "execution_count": null,
   "id": "9e36525a",
   "metadata": {},
   "outputs": [],
   "source": []
  },
  {
   "cell_type": "markdown",
   "id": "4c24a8ad",
   "metadata": {},
   "source": [
    "To do: Check whether there is any more missing data"
   ]
  },
  {
   "cell_type": "code",
   "execution_count": null,
   "id": "735b1c7a",
   "metadata": {},
   "outputs": [],
   "source": []
  },
  {
   "cell_type": "markdown",
   "id": "c44a2c70",
   "metadata": {},
   "source": [
    "To do: \n",
    "- Remove the samples with missing data.\n",
    "- Use get_dummies() function from pandas to convert categorical features into one hot encoding. "
   ]
  },
  {
   "cell_type": "code",
   "execution_count": null,
   "id": "a2f2ce5f",
   "metadata": {},
   "outputs": [],
   "source": []
  },
  {
   "cell_type": "markdown",
   "id": "463cf394",
   "metadata": {},
   "source": [
    "To do: \n",
    "- Store the features as variable X and targets as variable y\n",
    "- Split the data into training set and testing test"
   ]
  },
  {
   "cell_type": "code",
   "execution_count": null,
   "id": "87cd66db",
   "metadata": {},
   "outputs": [],
   "source": []
  },
  {
   "cell_type": "markdown",
   "id": "6a40098b",
   "metadata": {},
   "source": [
    "To do: Use grid search to fine tune the hyperparameters of Decition Tree Classifier (do this after Chapter 3)"
   ]
  },
  {
   "cell_type": "code",
   "execution_count": null,
   "id": "f02709ce",
   "metadata": {},
   "outputs": [],
   "source": []
  }
 ],
 "metadata": {
  "kernelspec": {
   "display_name": "Python 3 (ipykernel)",
   "language": "python",
   "name": "python3"
  },
  "language_info": {
   "codemirror_mode": {
    "name": "ipython",
    "version": 3
   },
   "file_extension": ".py",
   "mimetype": "text/x-python",
   "name": "python",
   "nbconvert_exporter": "python",
   "pygments_lexer": "ipython3",
   "version": "3.9.12"
  }
 },
 "nbformat": 4,
 "nbformat_minor": 5
}
