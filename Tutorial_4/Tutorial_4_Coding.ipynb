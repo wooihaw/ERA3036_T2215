{
 "cells": [
  {
   "cell_type": "code",
   "execution_count": null,
   "id": "c5f4cb8b",
   "metadata": {},
   "outputs": [],
   "source": [
    "# Initialization\n",
    "%matplotlib inline\n",
    "from warnings import filterwarnings\n",
    "filterwarnings('ignore')"
   ]
  },
  {
   "cell_type": "markdown",
   "id": "e90d0a81",
   "metadata": {},
   "source": [
    "## Exercise 1\n",
    "### Clustering\n",
    "Construct a model to group the truck drivers"
   ]
  },
  {
   "cell_type": "code",
   "execution_count": null,
   "id": "570faaaf",
   "metadata": {},
   "outputs": [],
   "source": [
    "import pandas as pd\n",
    "import matplotlib.pyplot as plt\n",
    "from sklearn.cluster import KMeans\n",
    "\n",
    "# Read dataset\n",
    "df = pd.read_csv('../data/drivers.csv', sep='\\t')\n",
    "\n",
    "# Store features (Column 1 & 2)\n",
    "X = df.iloc[:, 1:].values\n",
    "\n",
    "# Apply k-mean clustering with 2 clusters\n",
    "km = KMeans(n_clusters=2).fit(X)\n",
    "\n",
    "plt.scatter(X[:, 0], X[:, 1], c=km.labels_)\n",
    "plt.show()"
   ]
  },
  {
   "cell_type": "markdown",
   "id": "92183a63",
   "metadata": {},
   "source": [
    "To do: To group the truck drivers into 4 clusters and label the data samples according to their cluster"
   ]
  },
  {
   "cell_type": "code",
   "execution_count": null,
   "id": "481e2f0c",
   "metadata": {},
   "outputs": [],
   "source": []
  },
  {
   "cell_type": "markdown",
   "id": "4fa89bb4",
   "metadata": {},
   "source": [
    "To do: Add labels to df and save it as a CSV file called 'drivers_labelled.csv'"
   ]
  },
  {
   "cell_type": "code",
   "execution_count": null,
   "id": "b524b920",
   "metadata": {},
   "outputs": [],
   "source": []
  },
  {
   "cell_type": "markdown",
   "id": "350697da",
   "metadata": {},
   "source": [
    "## Exercise 2\n",
    "\n",
    "### Dimensionality Reductiontion\n",
    "\n",
    "Use PCA to reduce the dimentionalty of the data before training"
   ]
  },
  {
   "cell_type": "code",
   "execution_count": null,
   "id": "180ea172",
   "metadata": {},
   "outputs": [],
   "source": [
    "from sklearn.datasets import fetch_olivetti_faces\n",
    "from sklearn.model_selection import train_test_split as split\n",
    "from sklearn.decomposition import PCA\n",
    "from sklearn.neighbors import KNeighborsClassifier\n",
    "import matplotlib.pyplot as plt\n",
    "\n",
    "X, y = fetch_olivetti_faces(return_X_y=True)\n",
    "\n",
    "print(f\"Number of features: {X.shape[1]}\")\n",
    "print(f\"Number of samples: {X.shape[0]}\")"
   ]
  },
  {
   "cell_type": "code",
   "execution_count": null,
   "id": "b598f28b",
   "metadata": {},
   "outputs": [],
   "source": [
    "# View one of the image\n",
    "plt.imshow(X[0, :].reshape(64, 64), cmap='gray')\n",
    "plt.axis(False)\n",
    "plt.title(f'Person: {y[0]}')\n",
    "plt.show()"
   ]
  },
  {
   "cell_type": "code",
   "execution_count": null,
   "id": "51c905ea",
   "metadata": {},
   "outputs": [],
   "source": [
    "# Split the dataset into training set (80%) and testing set (20%)\n",
    "X_train, X_test, y_train, y_test = split(X, y, test_size=0.2, random_state=42)"
   ]
  },
  {
   "cell_type": "markdown",
   "id": "fac6e4e7",
   "metadata": {},
   "source": [
    "To do: Train and evaluate a kNN model (name it as knn1)"
   ]
  },
  {
   "cell_type": "code",
   "execution_count": null,
   "id": "c5e45cb2",
   "metadata": {},
   "outputs": [],
   "source": []
  },
  {
   "cell_type": "markdown",
   "id": "37389393",
   "metadata": {},
   "source": [
    "To do: Use PCA to reduce to 40 features"
   ]
  },
  {
   "cell_type": "code",
   "execution_count": null,
   "id": "648c476a",
   "metadata": {},
   "outputs": [],
   "source": []
  },
  {
   "cell_type": "markdown",
   "id": "820b1b48",
   "metadata": {},
   "source": [
    "To do: Train and evaluate a kNN model (name it as knn2) on the reduced features"
   ]
  },
  {
   "cell_type": "code",
   "execution_count": null,
   "id": "d38c2461",
   "metadata": {},
   "outputs": [],
   "source": []
  }
 ],
 "metadata": {
  "kernelspec": {
   "display_name": "Python 3 (ipykernel)",
   "language": "python",
   "name": "python3"
  },
  "language_info": {
   "codemirror_mode": {
    "name": "ipython",
    "version": 3
   },
   "file_extension": ".py",
   "mimetype": "text/x-python",
   "name": "python",
   "nbconvert_exporter": "python",
   "pygments_lexer": "ipython3",
   "version": "3.9.12"
  }
 },
 "nbformat": 4,
 "nbformat_minor": 5
}
